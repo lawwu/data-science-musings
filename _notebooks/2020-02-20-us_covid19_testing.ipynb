{
 "nbformat": 4,
 "nbformat_minor": 2,
 "metadata": {
  "language_info": {
   "name": "python",
   "codemirror_mode": {
    "name": "ipython",
    "version": 3
   },
   "version": "3.7.4-final"
  },
  "orig_nbformat": 2,
  "file_extension": ".py",
  "mimetype": "text/x-python",
  "name": "python",
  "npconvert_exporter": "python",
  "pygments_lexer": "ipython3",
  "version": 3,
  "kernelspec": {
   "name": "python37464bitbasecondaa451ab46fdb54c1d80f45e762d7dd01c",
   "display_name": "Python 3.7.4 64-bit ('base': conda)"
  }
 },
 "cells": [
  {
   "cell_type": "markdown",
   "metadata": {},
   "source": [
    "# US COVID-19 Testing\n",
    "> Surfacing test growth in the United States\n",
    "\n",
    "- toc: true \n",
    "- badges: true\n",
    "- comments: true\n",
    "- categories: [jupyter]\n",
    "- image: images/chart-preview.png"
   ]
  },
  {
   "cell_type": "code",
   "execution_count": 2,
   "metadata": {},
   "outputs": [],
   "source": [
    "#collapse-hide\n",
    "from io import StringIO\n",
    "import pandas as pd\n",
    "import requests\n",
    "import altair as alt"
   ]
  },
  {
   "cell_type": "code",
   "execution_count": 17,
   "metadata": {},
   "outputs": [],
   "source": [
    "#collapse-hide\n",
    "# us_daily = pd.read_csv('https://covidtracking.com/api/us/daily.csv')\n",
    "# doesn't work\n",
    "\n",
    "headers = {'User-Agent': 'Mozilla/5.0 (Windows NT 6.1; WOW64) AppleWebKit/537.36 (KHTML, like Gecko) Chrome/56.0.2924.76 Safari/537.36'}\n",
    "\n",
    "us_daily_url=\"https://covidtracking.com/api/us/daily.csv\"\n",
    "s=requests.get(us_daily_url, headers= headers).text"
   ]
  },
  {
   "cell_type": "code",
   "execution_count": 19,
   "metadata": {},
   "outputs": [],
   "source": [
    "#collapse-hide\n",
    "us_daily=pd.read_csv(StringIO(s))"
   ]
  },
  {
   "cell_type": "code",
   "execution_count": 20,
   "metadata": {},
   "outputs": [
    {
     "output_type": "execute_result",
     "data": {
      "text/plain": "        date  states  positive  negative  posNeg  pending  death   total\n0   20200304      14       118       748     866      103    NaN     969\n1   20200305      24       176       953    1129      197    NaN    1326\n2   20200306      36       223      1571    1794      458    NaN    2252\n3   20200307      51       341      1809    2150      602    NaN    2752\n4   20200308      51       417      2335    2752      347    NaN    3099\n5   20200309      51       584      3367    3951      313    NaN    4264\n6   20200310      51       778      3807    4585      469    NaN    5054\n7   20200311      51      1053      5978    7031      563   27.0    7617\n8   20200312      51      1315      7949    9264      673   36.0    9966\n9   20200313      51      1922     13613   15535     1130   39.0   16665\n10  20200314      51      2450     17102   19552     1236   49.0   20789\n11  20200315      51      3173     22548   25721     2242   60.0   27963\n12  20200316      56      4019     36104   40123     1691   71.0   41714\n13  20200317      56      5723     47604   53327     1687   90.0   54957\n14  20200318      56      7731     66225   73956     2538  112.0   76495\n15  20200319      56     11723     89119  100842     3025  160.0  103867",
      "text/html": "<div>\n<style scoped>\n    .dataframe tbody tr th:only-of-type {\n        vertical-align: middle;\n    }\n\n    .dataframe tbody tr th {\n        vertical-align: top;\n    }\n\n    .dataframe thead th {\n        text-align: right;\n    }\n</style>\n<table border=\"1\" class=\"dataframe\">\n  <thead>\n    <tr style=\"text-align: right;\">\n      <th></th>\n      <th>date</th>\n      <th>states</th>\n      <th>positive</th>\n      <th>negative</th>\n      <th>posNeg</th>\n      <th>pending</th>\n      <th>death</th>\n      <th>total</th>\n    </tr>\n  </thead>\n  <tbody>\n    <tr>\n      <th>0</th>\n      <td>20200304</td>\n      <td>14</td>\n      <td>118</td>\n      <td>748</td>\n      <td>866</td>\n      <td>103</td>\n      <td>NaN</td>\n      <td>969</td>\n    </tr>\n    <tr>\n      <th>1</th>\n      <td>20200305</td>\n      <td>24</td>\n      <td>176</td>\n      <td>953</td>\n      <td>1129</td>\n      <td>197</td>\n      <td>NaN</td>\n      <td>1326</td>\n    </tr>\n    <tr>\n      <th>2</th>\n      <td>20200306</td>\n      <td>36</td>\n      <td>223</td>\n      <td>1571</td>\n      <td>1794</td>\n      <td>458</td>\n      <td>NaN</td>\n      <td>2252</td>\n    </tr>\n    <tr>\n      <th>3</th>\n      <td>20200307</td>\n      <td>51</td>\n      <td>341</td>\n      <td>1809</td>\n      <td>2150</td>\n      <td>602</td>\n      <td>NaN</td>\n      <td>2752</td>\n    </tr>\n    <tr>\n      <th>4</th>\n      <td>20200308</td>\n      <td>51</td>\n      <td>417</td>\n      <td>2335</td>\n      <td>2752</td>\n      <td>347</td>\n      <td>NaN</td>\n      <td>3099</td>\n    </tr>\n    <tr>\n      <th>5</th>\n      <td>20200309</td>\n      <td>51</td>\n      <td>584</td>\n      <td>3367</td>\n      <td>3951</td>\n      <td>313</td>\n      <td>NaN</td>\n      <td>4264</td>\n    </tr>\n    <tr>\n      <th>6</th>\n      <td>20200310</td>\n      <td>51</td>\n      <td>778</td>\n      <td>3807</td>\n      <td>4585</td>\n      <td>469</td>\n      <td>NaN</td>\n      <td>5054</td>\n    </tr>\n    <tr>\n      <th>7</th>\n      <td>20200311</td>\n      <td>51</td>\n      <td>1053</td>\n      <td>5978</td>\n      <td>7031</td>\n      <td>563</td>\n      <td>27.0</td>\n      <td>7617</td>\n    </tr>\n    <tr>\n      <th>8</th>\n      <td>20200312</td>\n      <td>51</td>\n      <td>1315</td>\n      <td>7949</td>\n      <td>9264</td>\n      <td>673</td>\n      <td>36.0</td>\n      <td>9966</td>\n    </tr>\n    <tr>\n      <th>9</th>\n      <td>20200313</td>\n      <td>51</td>\n      <td>1922</td>\n      <td>13613</td>\n      <td>15535</td>\n      <td>1130</td>\n      <td>39.0</td>\n      <td>16665</td>\n    </tr>\n    <tr>\n      <th>10</th>\n      <td>20200314</td>\n      <td>51</td>\n      <td>2450</td>\n      <td>17102</td>\n      <td>19552</td>\n      <td>1236</td>\n      <td>49.0</td>\n      <td>20789</td>\n    </tr>\n    <tr>\n      <th>11</th>\n      <td>20200315</td>\n      <td>51</td>\n      <td>3173</td>\n      <td>22548</td>\n      <td>25721</td>\n      <td>2242</td>\n      <td>60.0</td>\n      <td>27963</td>\n    </tr>\n    <tr>\n      <th>12</th>\n      <td>20200316</td>\n      <td>56</td>\n      <td>4019</td>\n      <td>36104</td>\n      <td>40123</td>\n      <td>1691</td>\n      <td>71.0</td>\n      <td>41714</td>\n    </tr>\n    <tr>\n      <th>13</th>\n      <td>20200317</td>\n      <td>56</td>\n      <td>5723</td>\n      <td>47604</td>\n      <td>53327</td>\n      <td>1687</td>\n      <td>90.0</td>\n      <td>54957</td>\n    </tr>\n    <tr>\n      <th>14</th>\n      <td>20200318</td>\n      <td>56</td>\n      <td>7731</td>\n      <td>66225</td>\n      <td>73956</td>\n      <td>2538</td>\n      <td>112.0</td>\n      <td>76495</td>\n    </tr>\n    <tr>\n      <th>15</th>\n      <td>20200319</td>\n      <td>56</td>\n      <td>11723</td>\n      <td>89119</td>\n      <td>100842</td>\n      <td>3025</td>\n      <td>160.0</td>\n      <td>103867</td>\n    </tr>\n  </tbody>\n</table>\n</div>"
     },
     "metadata": {},
     "execution_count": 20
    }
   ],
   "source": [
    "us_daily"
   ]
  },
  {
   "cell_type": "code",
   "execution_count": 21,
   "metadata": {},
   "outputs": [],
   "source": [
    "#collapse-hide\n",
    "us_daily['tests_done_daily'] = us_daily['total'] - us_daily['total'].shift(1)\n",
    "us_daily['positive_daily'] = us_daily['positive'] - us_daily['positive'].shift(1)\n",
    "us_daily['positive_rate_daily'] = us_daily['positive_daily'] / us_daily['tests_done_daily'] \n",
    "us_daily['date'] = pd.to_datetime(us_daily['date'], format='%Y%m%d')"
   ]
  },
  {
   "cell_type": "markdown",
   "metadata": {},
   "source": [
    "# Total tests done positive rate (at a daily level)"
   ]
  },
  {
   "cell_type": "code",
   "execution_count": 33,
   "metadata": {},
   "outputs": [
    {
     "output_type": "execute_result",
     "data": {
      "text/html": "\n<div id=\"altair-viz-6c3feb958bfc49d1a51247beb3b15979\"></div>\n<script type=\"text/javascript\">\n  (function(spec, embedOpt){\n    const outputDiv = document.getElementById(\"altair-viz-6c3feb958bfc49d1a51247beb3b15979\");\n    const paths = {\n      \"vega\": \"https://cdn.jsdelivr.net/npm//vega@5?noext\",\n      \"vega-lib\": \"https://cdn.jsdelivr.net/npm//vega-lib?noext\",\n      \"vega-lite\": \"https://cdn.jsdelivr.net/npm//vega-lite@4.0.2?noext\",\n      \"vega-embed\": \"https://cdn.jsdelivr.net/npm//vega-embed@6?noext\",\n    };\n\n    function loadScript(lib) {\n      return new Promise(function(resolve, reject) {\n        var s = document.createElement('script');\n        s.src = paths[lib];\n        s.async = true;\n        s.onload = () => resolve(paths[lib]);\n        s.onerror = () => reject(`Error loading script: ${paths[lib]}`);\n        document.getElementsByTagName(\"head\")[0].appendChild(s);\n      });\n    }\n\n    function showError(err) {\n      outputDiv.innerHTML = `<div class=\"error\" style=\"color:red;\">${err}</div>`;\n      throw err;\n    }\n\n    function displayChart(vegaEmbed) {\n      vegaEmbed(outputDiv, spec, embedOpt)\n        .catch(err => showError(`Javascript Error: ${err.message}<br>This usually means there's a typo in your chart specification. See the javascript console for the full traceback.`));\n    }\n\n    if(typeof define === \"function\" && define.amd) {\n      requirejs.config({paths});\n      require([\"vega-embed\"], displayChart, err => showError(`Error loading script: ${err.message}`));\n    } else if (typeof vegaEmbed === \"function\") {\n      displayChart(vegaEmbed);\n    } else {\n      loadScript(\"vega\")\n        .then(() => loadScript(\"vega-lite\"))\n        .then(() => loadScript(\"vega-embed\"))\n        .catch(showError)\n        .then(() => displayChart(vegaEmbed));\n    }\n  })({\"config\": {\"view\": {\"continuousWidth\": 400, \"continuousHeight\": 300}}, \"layer\": [{\"mark\": \"bar\", \"encoding\": {\"x\": {\"type\": \"ordinal\", \"field\": \"date\"}, \"y\": {\"type\": \"quantitative\", \"field\": \"tests_done_daily\"}}}, {\"mark\": {\"type\": \"line\", \"color\": \"red\"}, \"encoding\": {\"x\": {\"type\": \"ordinal\", \"field\": \"date\"}, \"y\": {\"type\": \"quantitative\", \"field\": \"positive_rate_daily\"}}}], \"data\": {\"name\": \"data-e0111c2a0ae440b61182a7025e9b63fd\"}, \"resolve\": {\"scale\": {\"y\": \"independent\"}}, \"width\": 600, \"$schema\": \"https://vega.github.io/schema/vega-lite/v4.0.2.json\", \"datasets\": {\"data-e0111c2a0ae440b61182a7025e9b63fd\": [{\"date\": \"2020-03-04T00:00:00\", \"states\": 14, \"positive\": 118, \"negative\": 748, \"posNeg\": 866, \"pending\": 103, \"death\": null, \"total\": 969, \"tests_done_daily\": null, \"positive_daily\": null, \"positive_rate_daily\": null}, {\"date\": \"2020-03-05T00:00:00\", \"states\": 24, \"positive\": 176, \"negative\": 953, \"posNeg\": 1129, \"pending\": 197, \"death\": null, \"total\": 1326, \"tests_done_daily\": 357.0, \"positive_daily\": 58.0, \"positive_rate_daily\": 0.16246498599439776}, {\"date\": \"2020-03-06T00:00:00\", \"states\": 36, \"positive\": 223, \"negative\": 1571, \"posNeg\": 1794, \"pending\": 458, \"death\": null, \"total\": 2252, \"tests_done_daily\": 926.0, \"positive_daily\": 47.0, \"positive_rate_daily\": 0.05075593952483801}, {\"date\": \"2020-03-07T00:00:00\", \"states\": 51, \"positive\": 341, \"negative\": 1809, \"posNeg\": 2150, \"pending\": 602, \"death\": null, \"total\": 2752, \"tests_done_daily\": 500.0, \"positive_daily\": 118.0, \"positive_rate_daily\": 0.236}, {\"date\": \"2020-03-08T00:00:00\", \"states\": 51, \"positive\": 417, \"negative\": 2335, \"posNeg\": 2752, \"pending\": 347, \"death\": null, \"total\": 3099, \"tests_done_daily\": 347.0, \"positive_daily\": 76.0, \"positive_rate_daily\": 0.21902017291066284}, {\"date\": \"2020-03-09T00:00:00\", \"states\": 51, \"positive\": 584, \"negative\": 3367, \"posNeg\": 3951, \"pending\": 313, \"death\": null, \"total\": 4264, \"tests_done_daily\": 1165.0, \"positive_daily\": 167.0, \"positive_rate_daily\": 0.14334763948497853}, {\"date\": \"2020-03-10T00:00:00\", \"states\": 51, \"positive\": 778, \"negative\": 3807, \"posNeg\": 4585, \"pending\": 469, \"death\": null, \"total\": 5054, \"tests_done_daily\": 790.0, \"positive_daily\": 194.0, \"positive_rate_daily\": 0.24556962025316456}, {\"date\": \"2020-03-11T00:00:00\", \"states\": 51, \"positive\": 1053, \"negative\": 5978, \"posNeg\": 7031, \"pending\": 563, \"death\": 27.0, \"total\": 7617, \"tests_done_daily\": 2563.0, \"positive_daily\": 275.0, \"positive_rate_daily\": 0.1072961373390558}, {\"date\": \"2020-03-12T00:00:00\", \"states\": 51, \"positive\": 1315, \"negative\": 7949, \"posNeg\": 9264, \"pending\": 673, \"death\": 36.0, \"total\": 9966, \"tests_done_daily\": 2349.0, \"positive_daily\": 262.0, \"positive_rate_daily\": 0.11153682418050234}, {\"date\": \"2020-03-13T00:00:00\", \"states\": 51, \"positive\": 1922, \"negative\": 13613, \"posNeg\": 15535, \"pending\": 1130, \"death\": 39.0, \"total\": 16665, \"tests_done_daily\": 6699.0, \"positive_daily\": 607.0, \"positive_rate_daily\": 0.09061053888640096}, {\"date\": \"2020-03-14T00:00:00\", \"states\": 51, \"positive\": 2450, \"negative\": 17102, \"posNeg\": 19552, \"pending\": 1236, \"death\": 49.0, \"total\": 20789, \"tests_done_daily\": 4124.0, \"positive_daily\": 528.0, \"positive_rate_daily\": 0.1280310378273521}, {\"date\": \"2020-03-15T00:00:00\", \"states\": 51, \"positive\": 3173, \"negative\": 22548, \"posNeg\": 25721, \"pending\": 2242, \"death\": 60.0, \"total\": 27963, \"tests_done_daily\": 7174.0, \"positive_daily\": 723.0, \"positive_rate_daily\": 0.10078059659882911}, {\"date\": \"2020-03-16T00:00:00\", \"states\": 56, \"positive\": 4019, \"negative\": 36104, \"posNeg\": 40123, \"pending\": 1691, \"death\": 71.0, \"total\": 41714, \"tests_done_daily\": 13751.0, \"positive_daily\": 846.0, \"positive_rate_daily\": 0.061522798341938766}, {\"date\": \"2020-03-17T00:00:00\", \"states\": 56, \"positive\": 5723, \"negative\": 47604, \"posNeg\": 53327, \"pending\": 1687, \"death\": 90.0, \"total\": 54957, \"tests_done_daily\": 13243.0, \"positive_daily\": 1704.0, \"positive_rate_daily\": 0.12867175111379597}, {\"date\": \"2020-03-18T00:00:00\", \"states\": 56, \"positive\": 7731, \"negative\": 66225, \"posNeg\": 73956, \"pending\": 2538, \"death\": 112.0, \"total\": 76495, \"tests_done_daily\": 21538.0, \"positive_daily\": 2008.0, \"positive_rate_daily\": 0.09323056922648343}, {\"date\": \"2020-03-19T00:00:00\", \"states\": 56, \"positive\": 11723, \"negative\": 89119, \"posNeg\": 100842, \"pending\": 3025, \"death\": 160.0, \"total\": 103867, \"tests_done_daily\": 27372.0, \"positive_daily\": 3992.0, \"positive_rate_daily\": 0.1458424667543475}]}}, {\"mode\": \"vega-lite\"});\n</script>",
      "text/plain": "alt.LayerChart(...)"
     },
     "metadata": {},
     "execution_count": 33
    }
   ],
   "source": [
    "#collapse-hide\n",
    "base = alt.Chart(us_daily).encode(x='date:O')\n",
    "bar = base.mark_bar().encode(y='tests_done_daily:Q')\n",
    "line =  base.mark_line(color='red').encode(\n",
    "    y='positive_rate_daily:Q'\n",
    ")\n",
    "(bar + line).properties(width=600).resolve_scale(y='independent')"
   ]
  },
  {
   "cell_type": "code",
   "execution_count": null,
   "metadata": {},
   "outputs": [],
   "source": []
  }
 ]
}